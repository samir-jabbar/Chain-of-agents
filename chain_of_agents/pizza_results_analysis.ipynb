{
 "cells": [
  {
   "cell_type": "markdown",
   "metadata": {},
   "source": [
    "# On the pertinence of LLMs for ontology learning: results analysis\n",
    "\n",
    "This notebook contains the functions we used to construct our results. \n",
    "We try to automate as much as possible our analysis, particularly leveraging some SPARQL queries.\n",
    "However, human are still needed to align the ontologies constructed with our base one, i.e., the pizza ontology.\n",
    "\n",
    "In particular, we needed to align the ontologies independently of the exact labels.\n",
    "Hence, to help us in this endeavour, we used a basic textual distance on the labels or end of the URI if no label were available.\n",
    "In the end, the counting was done manually. "
   ]
  },
  {
   "cell_type": "markdown",
   "metadata": {},
   "source": [
    "## Notebook setup"
   ]
  },
  {
   "cell_type": "code",
   "execution_count": 186,
   "metadata": {},
   "outputs": [
    {
     "name": "stdout",
     "output_type": "stream",
     "text": [
      "Requirement already satisfied: pandas in c:\\users\\daren\\desktop\\projets\\coa\\chain-of-agents\\.venv\\lib\\site-packages (2.2.3)\n",
      "Requirement already satisfied: numpy>=1.26.0 in c:\\users\\daren\\desktop\\projets\\coa\\chain-of-agents\\.venv\\lib\\site-packages (from pandas) (2.2.3)\n",
      "Requirement already satisfied: python-dateutil>=2.8.2 in c:\\users\\daren\\desktop\\projets\\coa\\chain-of-agents\\.venv\\lib\\site-packages (from pandas) (2.9.0.post0)\n",
      "Requirement already satisfied: pytz>=2020.1 in c:\\users\\daren\\desktop\\projets\\coa\\chain-of-agents\\.venv\\lib\\site-packages (from pandas) (2025.1)\n",
      "Requirement already satisfied: tzdata>=2022.7 in c:\\users\\daren\\desktop\\projets\\coa\\chain-of-agents\\.venv\\lib\\site-packages (from pandas) (2025.1)\n",
      "Requirement already satisfied: six>=1.5 in c:\\users\\daren\\desktop\\projets\\coa\\chain-of-agents\\.venv\\lib\\site-packages (from python-dateutil>=2.8.2->pandas) (1.17.0)\n"
     ]
    }
   ],
   "source": [
    "!pip install pandas"
   ]
  },
  {
   "cell_type": "code",
   "execution_count": 647,
   "metadata": {},
   "outputs": [],
   "source": [
    "import os\n",
    "\n",
    "from rapidfuzz import process, fuzz\n",
    "from rdflib import Graph, BNode\n",
    "from rdflib.namespace import Namespace\n",
    "\n",
    "import pandas as pd"
   ]
  },
  {
   "cell_type": "code",
   "execution_count": 648,
   "metadata": {},
   "outputs": [],
   "source": [
    "# Define some namespaces to ease the URIs manipulation and visualisation\n",
    "\n",
    "olaf_nlp4kgc_ns = Namespace(\"http://example.org/example#\")\n",
    "pizza_onto_ns = Namespace(\"http://www.co-ode.org/ontologies/pizza/pizza.owl#\")\n",
    "\n",
    "olaf_nlp4kgc_ns_bindings = {\n",
    "    \"olaf-nlp4kgc\": olaf_nlp4kgc_ns,\n",
    "    \"pizza-onto\": pizza_onto_ns\n",
    "}"
   ]
  },
  {
   "cell_type": "code",
   "execution_count": 649,
   "metadata": {},
   "outputs": [
    {
     "data": {
      "text/plain": [
       "Namespace('http://example.org/example#')"
      ]
     },
     "execution_count": 649,
     "metadata": {},
     "output_type": "execute_result"
    }
   ],
   "source": [
    "olaf_nlp4kgc_ns"
   ]
  },
  {
   "cell_type": "code",
   "execution_count": 651,
   "metadata": {},
   "outputs": [
    {
     "data": {
      "text/plain": [
       "<Graph identifier=N120d04b05a4047ef9a3069738d6fc065 (<class 'rdflib.graph.Graph'>)>"
      ]
     },
     "execution_count": 651,
     "metadata": {},
     "output_type": "execute_result"
    }
   ],
   "source": [
    "# Load the different RDF graphs\n",
    "\n",
    "pizza_onto_graph = Graph()\n",
    "pizza_onto_graph.parse(os.path.join(\"pizza_onto_ground_truth.ttl\"))\n",
    "\n",
    "olaf_llm_graph = Graph()\n",
    "olaf_llm_graph.parse(os.path.join(\"ontology.ttl\"))\n",
    "\n",
    "olaf = Graph()\n",
    "olaf.parse(os.path.join(\"llm_owl_pizza_onto_mistral.ttl\"))"
   ]
  },
  {
   "cell_type": "code",
   "execution_count": 639,
   "metadata": {},
   "outputs": [
    {
     "name": "stdout",
     "output_type": "stream",
     "text": [
      "Ontology loaded successfully!\n"
     ]
    }
   ],
   "source": [
    "from rdflib import Graph\n",
    "\n",
    "g = Graph()\n",
    "try:\n",
    "    g.parse(\"ontology.ttl\", format=\"turtle\")\n",
    "    print(\"Ontology loaded successfully!\")\n",
    "except Exception as e:\n",
    "    print(f\"Error: {e}\")\n"
   ]
  },
  {
   "cell_type": "markdown",
   "metadata": {},
   "source": [
    "## SPARQL tools"
   ]
  },
  {
   "cell_type": "code",
   "execution_count": 640,
   "metadata": {},
   "outputs": [],
   "source": [
    "# Some SPARQL queries we use for our analysis\n",
    "\n",
    "owl_classes_sparql_q = \"\"\"\n",
    "            SELECT DISTINCT ?class WHERE {\n",
    "                ?class rdf:type owl:Class .\n",
    "            }\n",
    "        \"\"\"\n",
    "\n",
    "owl_classes_labels_sparql_q = \"\"\"\n",
    "            SELECT ?label WHERE {\n",
    "                ?class rdf:type owl:Class ;\n",
    "                    rdfs:label ?label .\n",
    "            }\n",
    "\n",
    "        \"\"\"\n",
    "\n",
    "owl_classes_en_labels_sparql_q = \"\"\"\n",
    "            SELECT ?label WHERE {\n",
    "                ?class rdf:type owl:Class ;\n",
    "                        rdfs:label ?label .\n",
    "                FILTER(LANG(?label) = \"en\").\n",
    "            }\n",
    "        \"\"\"\n",
    "\n",
    "owl_obj_props_sparql_q = \"\"\"\n",
    "            SELECT DISTINCT ?prop WHERE {\n",
    "                ?prop rdf:type owl:ObjectProperty .\n",
    "            }\n",
    "        \"\"\"\n",
    "\n",
    "owl_named_individuals_sparql_q = \"\"\"\n",
    "            SELECT DISTINCT ?ind WHERE {\n",
    "                ?ind rdf:type owl:NamedIndividual .\n",
    "            }\n",
    "        \"\"\"\n",
    "\n",
    "owl_named_ind_from_obj_props_sparql_q = \"\"\"\n",
    "            SELECT DISTINCT ?ind WHERE {\n",
    "                {\n",
    "                    ?prop rdf:type owl:ObjectProperty .\n",
    "                    ?ind ?prop ?o .\n",
    "                }\n",
    "                UNION\n",
    "                {\n",
    "                    ?prop rdf:type owl:ObjectProperty .\n",
    "                    ?s ?prop ?ind .\n",
    "                }\n",
    "                UNION\n",
    "                {\n",
    "                    ?ind rdf:type ?class .\n",
    "                    ?class rdf:type owl:Class .\n",
    "                }\n",
    "                UNION\n",
    "                {\n",
    "                    ?ind rdf:type owl:NamedIndividual .\n",
    "                }\n",
    "            }\n",
    "        \"\"\"\n",
    "\n",
    "owl_named_classes_ind_from_obj_props_sparql_q = \"\"\"\n",
    "            SELECT DISTINCT ?ind WHERE {\n",
    "                {\n",
    "                    ?prop rdf:type owl:ObjectProperty .\n",
    "                    ?ind ?prop ?o .\n",
    "                }\n",
    "                UNION\n",
    "                {\n",
    "                    ?prop rdf:type owl:ObjectProperty .\n",
    "                    ?s ?prop ?ind .\n",
    "                }\n",
    "                UNION\n",
    "                {\n",
    "                    ?ind rdf:type ?class .\n",
    "                    ?class rdf:type owl:Class .\n",
    "                }\n",
    "                UNION\n",
    "                {\n",
    "                    ?ind rdf:type owl:NamedIndividual .\n",
    "                }\n",
    "                UNION\n",
    "                {\n",
    "                    ?ind rdf:type owl:Class .\n",
    "                }\n",
    "            }\n",
    "        \"\"\"\n",
    "\n",
    "rdfs_subclassof_tuples_sparql_q = \"\"\"\n",
    "            SELECT DISTINCT ?child ?parent WHERE {\n",
    "                {\n",
    "                    ?child rdfs:subClassOf ?parent .\n",
    "\n",
    "                }\n",
    "            UNION\n",
    "                {\n",
    "                    ?child rdf:subClassOf ?parent .\n",
    "\n",
    "                }\n",
    "            }\n",
    "        \"\"\""
   ]
  },
  {
   "cell_type": "code",
   "execution_count": 641,
   "metadata": {},
   "outputs": [],
   "source": [
    "def get_sparql_q_res_fragments_skip_bnodes(sparql_q: str, graph: Graph, ns: dict[str, Namespace]) -> set[tuple]:\n",
    "    \"\"\"Run a SPARQL query over an RDF graph and return the URIs fragments skipping blank nodes.\n",
    "\n",
    "    Parameters\n",
    "    ----------\n",
    "    sparql_q : str\n",
    "        The SPARQL query.\n",
    "    graph : Graph\n",
    "        The RDF graph.\n",
    "    ns : dict[str, Namespace]\n",
    "        Namespaces to use to extract URIs fragments (i.e., end).\n",
    "\n",
    "    Returns\n",
    "    -------\n",
    "    set[tuple]\n",
    "        The results.\n",
    "    \"\"\"\n",
    "    q_res = graph.query(sparql_q, initNs=ns)\n",
    "    \n",
    "    fragments = set()\n",
    "    for res in q_res:\n",
    "        t = []\n",
    "        for item in res:\n",
    "            if not isinstance(item, BNode):\n",
    "                t.append(item.fragment)\n",
    "        fragments.add(tuple(t))\n",
    "\n",
    "    return fragments"
   ]
  },
  {
   "cell_type": "code",
   "execution_count": 642,
   "metadata": {},
   "outputs": [],
   "source": [
    "def get_sparql_q_label_res(sparql_q: str, graph: Graph, ns: dict[str, Namespace]) -> set[tuple]:\n",
    "    \"\"\"Run a SPARQL query over an RDF graph and return the URIs labels.\n",
    "\n",
    "    The SPARQL query must return labels, i.e., strings.\n",
    "\n",
    "    Parameters\n",
    "    ----------\n",
    "    sparql_q : str\n",
    "        The SPARQL query.\n",
    "    graph : Graph\n",
    "        The RDF graph.\n",
    "    ns : dict[str, Namespace]\n",
    "        Namespaces to use to extract URIs fragments (i.e., end).\n",
    "\n",
    "    Returns\n",
    "    -------\n",
    "    set[tuple]\n",
    "        The results.\n",
    "    \"\"\"\n",
    "    q_res = graph.query(sparql_q, initNs=ns)\n",
    "\n",
    "    labels = {str(res[0]) for res in q_res}\n",
    "\n",
    "    return labels"
   ]
  },
  {
   "cell_type": "code",
   "execution_count": 643,
   "metadata": {},
   "outputs": [],
   "source": [
    "def get_sparql_q_tuple_res(sparql_q: str, graph: Graph, ns: dict[str, Namespace]) -> set[tuple]:\n",
    "    \"\"\"Run a SPARQL query over an RDF graph and return the URIs labels.\n",
    "\n",
    "    The SPARQL query must return labels, i.e., strings.\n",
    "\n",
    "    Parameters\n",
    "    ----------\n",
    "    sparql_q : str\n",
    "        The SPARQL query.\n",
    "    graph : Graph\n",
    "        The RDF graph.\n",
    "    ns : dict[str, Namespace]\n",
    "        Namespaces to use to extract URIs fragments (i.e., end).\n",
    "\n",
    "    Returns\n",
    "    -------\n",
    "    set[tuple]\n",
    "        The results.\n",
    "    \"\"\"\n",
    "    q_res = graph.query(sparql_q, initNs=ns)\n",
    "\n",
    "    labels = {(str(res[0]), str(res[1])) for res in q_res}\n",
    "\n",
    "    return labels"
   ]
  },
  {
   "cell_type": "markdown",
   "metadata": {},
   "source": [
    "## Ontologies overview"
   ]
  },
  {
   "cell_type": "code",
   "execution_count": 644,
   "metadata": {},
   "outputs": [],
   "source": [
    "# Extract ontology components\n",
    "\n",
    "llm_text2owl_g_classes = get_sparql_q_res_fragments_skip_bnodes(sparql_q=owl_classes_sparql_q, graph=olaf_llm_graph, ns=olaf_nlp4kgc_ns_bindings)\n",
    "olaf_llm_g_classes = get_sparql_q_res_fragments_skip_bnodes(sparql_q=owl_classes_sparql_q, graph=olaf, ns=olaf_nlp4kgc_ns_bindings)\n",
    "olaf_no_llm_g_classes = get_sparql_q_res_fragments_skip_bnodes(sparql_q=owl_classes_sparql_q, graph=olaf_llm_graph, ns=olaf_nlp4kgc_ns_bindings)\n",
    "pizza_onto_g_classes = get_sparql_q_res_fragments_skip_bnodes(sparql_q=owl_classes_sparql_q, graph=pizza_onto_graph, ns=olaf_nlp4kgc_ns_bindings)\n",
    "\n",
    "llm_text2owl_g_props = get_sparql_q_res_fragments_skip_bnodes(sparql_q=owl_obj_props_sparql_q, graph=olaf_llm_graph, ns=olaf_nlp4kgc_ns_bindings)\n",
    "olaf_llm_g_props = get_sparql_q_res_fragments_skip_bnodes(sparql_q=owl_obj_props_sparql_q, graph=olaf, ns=olaf_nlp4kgc_ns_bindings)\n",
    "olaf_no_llm_g_props = get_sparql_q_res_fragments_skip_bnodes(sparql_q=owl_obj_props_sparql_q, graph=olaf_llm_graph, ns=olaf_nlp4kgc_ns_bindings)\n",
    "pizza_onto_g_props = get_sparql_q_res_fragments_skip_bnodes(sparql_q=owl_obj_props_sparql_q, graph=pizza_onto_graph, ns=olaf_nlp4kgc_ns_bindings)\n",
    "\n",
    "llm_text2owl_g_individuals = get_sparql_q_res_fragments_skip_bnodes(sparql_q=owl_named_individuals_sparql_q, graph=olaf_llm_graph, ns=olaf_nlp4kgc_ns_bindings)\n",
    "olaf_llm_g_individuals = get_sparql_q_res_fragments_skip_bnodes(sparql_q=owl_named_individuals_sparql_q, graph=olaf, ns=olaf_nlp4kgc_ns_bindings)\n",
    "olaf_no_llm_g_individuals = get_sparql_q_res_fragments_skip_bnodes(sparql_q=owl_named_individuals_sparql_q, graph=olaf_llm_graph, ns=olaf_nlp4kgc_ns_bindings)\n",
    "pizza_onto_g_individuals = get_sparql_q_res_fragments_skip_bnodes(sparql_q=owl_named_individuals_sparql_q, graph=pizza_onto_graph, ns=olaf_nlp4kgc_ns_bindings)\n",
    "\n",
    "llm_text2owl_g_individuals_from_props = get_sparql_q_res_fragments_skip_bnodes(sparql_q=owl_named_ind_from_obj_props_sparql_q, graph=olaf_llm_graph, ns=olaf_nlp4kgc_ns_bindings)\n",
    "olaf_llm_g_individuals_from_props = get_sparql_q_res_fragments_skip_bnodes(sparql_q=owl_named_ind_from_obj_props_sparql_q, graph=olaf, ns=olaf_nlp4kgc_ns_bindings)\n",
    "olaf_no_llm_g_individuals_from_props = get_sparql_q_res_fragments_skip_bnodes(sparql_q=owl_named_ind_from_obj_props_sparql_q, graph=olaf_llm_graph, ns=olaf_nlp4kgc_ns_bindings)\n",
    "pizza_onto_g_individuals_from_props = get_sparql_q_res_fragments_skip_bnodes(sparql_q=owl_named_ind_from_obj_props_sparql_q, graph=pizza_onto_graph, ns=olaf_nlp4kgc_ns_bindings)\n",
    "\n",
    "llm_text2owl_g_subclassof_t = get_sparql_q_res_fragments_skip_bnodes(sparql_q=rdfs_subclassof_tuples_sparql_q, graph=olaf_llm_graph, ns=olaf_nlp4kgc_ns_bindings)\n",
    "olaf_llm_g_subclassof_t = get_sparql_q_res_fragments_skip_bnodes(sparql_q=rdfs_subclassof_tuples_sparql_q, graph=olaf, ns=olaf_nlp4kgc_ns_bindings)\n",
    "olaf_no_llm_g_subclassof_t = get_sparql_q_res_fragments_skip_bnodes(sparql_q=rdfs_subclassof_tuples_sparql_q, graph=olaf_llm_graph, ns=olaf_nlp4kgc_ns_bindings)\n",
    "pizza_onto_g_subclassof_t = get_sparql_q_res_fragments_skip_bnodes(sparql_q=rdfs_subclassof_tuples_sparql_q, graph=pizza_onto_graph, ns=olaf_nlp4kgc_ns_bindings)"
   ]
  },
  {
   "cell_type": "code",
   "execution_count": 645,
   "metadata": {},
   "outputs": [],
   "source": [
    "# Construct the counts table for visualisation\n",
    "\n",
    "onto_overview = {\n",
    "    \"Count\": [\n",
    "        \"OWL named classes\", \n",
    "        \"OWL object properties\", \n",
    "        \"OWL named individuals\", \n",
    "        \"OWL named individuals from object properties\", \n",
    "        \"RDFS subClassOf tuples\"\n",
    "    ],\n",
    "    \"Pizza Ontology\": [\n",
    "        len(pizza_onto_g_classes), \n",
    "        len(pizza_onto_g_props), \n",
    "        len(pizza_onto_g_individuals), \n",
    "        len(pizza_onto_g_individuals_from_props), \n",
    "        len(pizza_onto_g_subclassof_t)\n",
    "    ],\n",
    "    \"COA Text to OWL\": [\n",
    "        len(llm_text2owl_g_classes), \n",
    "        len(llm_text2owl_g_props), \n",
    "        len(llm_text2owl_g_individuals), \n",
    "        len(llm_text2owl_g_individuals_from_props), \n",
    "        len(llm_text2owl_g_subclassof_t)\n",
    "    ],\n",
    "    \"OLAF LLM\": [\n",
    "        len(olaf_llm_g_classes), \n",
    "        len(olaf_llm_g_props), \n",
    "        len(olaf_llm_g_individuals), \n",
    "        len(olaf_llm_g_individuals_from_props), \n",
    "        len(olaf_llm_g_subclassof_t)\n",
    "    ]\n",
    "}\n",
    "\n",
    "df_overview = pd.DataFrame(onto_overview)"
   ]
  },
  {
   "cell_type": "code",
   "execution_count": 646,
   "metadata": {},
   "outputs": [
    {
     "data": {
      "text/html": [
       "<div>\n",
       "<style scoped>\n",
       "    .dataframe tbody tr th:only-of-type {\n",
       "        vertical-align: middle;\n",
       "    }\n",
       "\n",
       "    .dataframe tbody tr th {\n",
       "        vertical-align: top;\n",
       "    }\n",
       "\n",
       "    .dataframe thead th {\n",
       "        text-align: right;\n",
       "    }\n",
       "</style>\n",
       "<table border=\"1\" class=\"dataframe\">\n",
       "  <thead>\n",
       "    <tr style=\"text-align: right;\">\n",
       "      <th></th>\n",
       "      <th>Count</th>\n",
       "      <th>Pizza Ontology</th>\n",
       "      <th>COA Text to OWL</th>\n",
       "      <th>OLAF LLM</th>\n",
       "    </tr>\n",
       "  </thead>\n",
       "  <tbody>\n",
       "    <tr>\n",
       "      <th>0</th>\n",
       "      <td>OWL named classes</td>\n",
       "      <td>97</td>\n",
       "      <td>33</td>\n",
       "      <td>23</td>\n",
       "    </tr>\n",
       "    <tr>\n",
       "      <th>1</th>\n",
       "      <td>OWL object properties</td>\n",
       "      <td>8</td>\n",
       "      <td>2</td>\n",
       "      <td>0</td>\n",
       "    </tr>\n",
       "    <tr>\n",
       "      <th>2</th>\n",
       "      <td>OWL named individuals</td>\n",
       "      <td>5</td>\n",
       "      <td>0</td>\n",
       "      <td>0</td>\n",
       "    </tr>\n",
       "    <tr>\n",
       "      <th>3</th>\n",
       "      <td>OWL named individuals from object properties</td>\n",
       "      <td>5</td>\n",
       "      <td>0</td>\n",
       "      <td>0</td>\n",
       "    </tr>\n",
       "    <tr>\n",
       "      <th>4</th>\n",
       "      <td>RDFS subClassOf tuples</td>\n",
       "      <td>141</td>\n",
       "      <td>32</td>\n",
       "      <td>23</td>\n",
       "    </tr>\n",
       "  </tbody>\n",
       "</table>\n",
       "</div>"
      ],
      "text/plain": [
       "                                          Count  Pizza Ontology  \\\n",
       "0                             OWL named classes              97   \n",
       "1                         OWL object properties               8   \n",
       "2                         OWL named individuals               5   \n",
       "3  OWL named individuals from object properties               5   \n",
       "4                        RDFS subClassOf tuples             141   \n",
       "\n",
       "   COA Text to OWL  OLAF LLM  \n",
       "0               33        23  \n",
       "1                2         0  \n",
       "2                0         0  \n",
       "3                0         0  \n",
       "4               32        23  "
      ]
     },
     "execution_count": 646,
     "metadata": {},
     "output_type": "execute_result"
    }
   ],
   "source": [
    "df_overview"
   ]
  },
  {
   "cell_type": "markdown",
   "metadata": {},
   "source": [
    "## Ontologies evaluation"
   ]
  },
  {
   "cell_type": "markdown",
   "metadata": {},
   "source": [
    "Classes"
   ]
  },
  {
   "cell_type": "code",
   "execution_count": 632,
   "metadata": {},
   "outputs": [
    {
     "data": {
      "text/plain": [
       "95"
      ]
     },
     "execution_count": 632,
     "metadata": {},
     "output_type": "execute_result"
    }
   ],
   "source": [
    "pizza_onto_class_labels = get_sparql_q_label_res(sparql_q=owl_classes_en_labels_sparql_q, graph=pizza_onto_graph, ns=olaf_nlp4kgc_ns_bindings)\n",
    "pizza_onto_class_labels = {label.lower().replace(\" \", \"\") for label in pizza_onto_class_labels}\n",
    "len(pizza_onto_class_labels)"
   ]
  },
  {
   "cell_type": "code",
   "execution_count": 633,
   "metadata": {},
   "outputs": [],
   "source": [
    "llm_text2owl_class_labels = get_sparql_q_label_res(sparql_q=owl_classes_labels_sparql_q, graph=olaf_llm_graph, ns=olaf_nlp4kgc_ns_bindings)\n",
    "llm_text2owl_class_labels = list({label.lower().replace(\" \", \"\") for label in llm_text2owl_class_labels})\n",
    "\n",
    "# Uncomment this to visualise the string alignments\n",
    "#for true_label in pizza_onto_class_labels:\n",
    "#    res = process.extract(true_label, llm_text2owl_class_labels, scorer=fuzz.WRatio, limit=3)\n",
    "#    print(f\"{true_label} :  {res[0][0]} ({res[0][1]}), {res[1][0]} ({res[1][1]}), {res[2][0]} ({res[2][1]})\") "
   ]
  },
  {
   "cell_type": "code",
   "execution_count": 634,
   "metadata": {},
   "outputs": [
    {
     "data": {
      "text/plain": [
       "0"
      ]
     },
     "execution_count": 634,
     "metadata": {},
     "output_type": "execute_result"
    }
   ],
   "source": [
    "len(llm_text2owl_class_labels)"
   ]
  },
  {
   "cell_type": "code",
   "execution_count": 529,
   "metadata": {},
   "outputs": [
    {
     "name": "stdout",
     "output_type": "stream",
     "text": [
      "Number of common classes: 28\n",
      "Common classes: {'cheesetopping', 'oniontopping', 'mozzarellatopping', 'seafoodtopping', 'hotgreenpeppertopping', 'chickentopping', 'cajunspicetopping', 'parmahamtopping', 'olivetopping', 'spinachtopping', 'peperonisausagetopping', 'vegetabletopping', 'jalapenopeppertopping', 'fourcheesestopping', 'mushroomtopping', 'cheesyvegetabletopping', 'greenpeppertopping', 'hotspicedbeeftopping', 'mixedseafoodtopping', 'artichoketopping', 'spicypizza', 'asparagustopping', 'thinandcrispybase', 'meattopping', 'leektopping', 'prawnstopping', 'pizza', 'deeppanbase'}\n"
     ]
    }
   ],
   "source": [
    "# Convert second list to a set\n",
    "class_names_pizza_text2owl_set = set(llm_text2owl_class_labels)\n",
    "\n",
    "# Compute common classes\n",
    "common_classes_pizza_text2owl = pizza_onto_class_labels.intersection(class_names_pizza_text2owl_set)\n",
    "\n",
    "# Print the results\n",
    "print(\"Number of common classes:\", len(common_classes_pizza_text2owl))\n",
    "print(\"Common classes:\", common_classes_pizza_text2owl)"
   ]
  },
  {
   "cell_type": "code",
   "execution_count": 530,
   "metadata": {},
   "outputs": [],
   "source": [
    "common_classes_pizza_text2owl=28"
   ]
  },
  {
   "cell_type": "code",
   "execution_count": 531,
   "metadata": {},
   "outputs": [
    {
     "name": "stdout",
     "output_type": "stream",
     "text": [
      "cheesetopping :  cheesetopping (100.0), fourcheesestopping (83.87096774193549), leektopping (75.0)\n",
      "spicytopping :  spinachtopping (84.61538461538461), cajunspicetopping (75.86206896551724), fourcheesestopping (72.0)\n",
      "mozzarellatopping :  mozzarellatopping (100.0), meattopping (75.78947368421052), leektopping (72.0)\n",
      "rosemarytopping :  meattopping (69.23076923076923), seafoodtopping (68.96551724137932), parmahamtopping (66.66666666666667)\n",
      "mild :  mixedseafoodtopping (60.00000000000001), americanhotpizza (45.0), fruttidimarepizza (45.0)\n",
      "americanhot :  americanhotpizza (81.4814814814815), artichoketopping (51.85185185185186), hotgreenpeppertopping (38.57142857142858)\n",
      "pinekerneltopping :  leektopping (75.78947368421052), meattopping (72.0), chickentopping (70.96774193548387)\n",
      "herbspicetopping :  cheesetopping (75.86206896551724), chickentopping (73.33333333333334), spinachtopping (73.33333333333334)\n",
      "vegetarianpizza :  pizza (90.0), cajunpizza (74.11764705882352), americanhotpizza (64.51612903225806)\n",
      "spiciness :  spinachtopping (55.38461538461539), hotspicedbeeftopping (52.94117647058824), spicypizza (52.63157894736843)\n",
      "pizzabase :  pizza (90.0), americanhotpizza (64.28571428571429), fruttidimarepizza (64.28571428571429)\n",
      "peperonatatopping :  peperonisausagetopping (82.05128205128204), meattopping (77.14285714285715), leektopping (70.00000000000001)\n",
      "greenpeppertopping :  greenpeppertopping (100.0), hotgreenpeppertopping (92.3076923076923), jalapenopeppertopping (76.92307692307692)\n",
      "veneziana :  deeppanbase (50.0), vegetabletopping (48.0), americanhotpizza (42.35294117647059)\n",
      "domainthing :  oniontopping (60.86956521739131), meattopping (54.54545454545454), olivetopping (52.17391304347826)\n",
      "mixedseafoodtopping :  mixedseafoodtopping (100.0), seafoodtopping (84.84848484848484), oniontopping (73.63636363636364)\n",
      "soho :  mushroomtopping (67.5), hotgreenpeppertopping (60.00000000000001), hotspicedbeeftopping (60.00000000000001)\n",
      "petitpoistopping :  peperonisausagetopping (68.42105263157895), meattopping (66.66666666666667), oniontopping (64.28571428571428)\n",
      "parmense :  parmahamtopping (60.00000000000001), deeppanbase (52.63157894736843), thinandcrispybase (51.42857142857142)\n",
      "margherita :  fruttidimarepizza (56.84210526315789), americanhotpizza (52.94117647058824), mozzarellatopping (45.0)\n",
      "lareine :  leektopping (54.0), hotgreenpeppertopping (51.42857142857142), jalapenopeppertopping (51.42857142857142)\n",
      "seafoodtopping :  seafoodtopping (100.0), mixedseafoodtopping (84.84848484848484), meattopping (72.0)\n",
      "sultanatopping :  spinachtopping (71.42857142857143), asparagustopping (66.66666666666667), prawnstopping (66.66666666666667)\n",
      "anchoviestopping :  cheesetopping (75.86206896551724), artichoketopping (75.0), chickentopping (73.33333333333334)\n",
      "capricciosa :  capricciosapizza (81.4814814814815), cajunpizza (47.61904761904761), spicypizza (47.61904761904761)\n",
      "cajunspicetopping :  cajunspicetopping (100.0), meattopping (75.78947368421052), leektopping (75.78947368421052)\n",
      "gorgonzolatopping :  meattopping (75.78947368421052), leektopping (72.0), oniontopping (68.96551724137932)\n",
      "siciliana :  spicypizza (52.63157894736843), spinachtopping (51.42857142857142), americanhotpizza (42.35294117647059)\n",
      "olivetopping :  olivetopping (100.0), leektopping (78.26086956521739), cheesyvegetabletopping (77.14285714285715)\n",
      "napoletana :  napoletanapizza (90.0), olivetopping (45.45454545454546), vegetabletopping (45.0)\n",
      "spinachtopping :  spinachtopping (100.0), cajunspicetopping (70.96774193548387), oniontopping (69.23076923076923)\n",
      "vegetabletopping :  vegetabletopping (100.0), cheesyvegetabletopping (84.21052631578947), cheesetopping (68.96551724137932)\n",
      "spicypizzaequivalent :  spicypizza (90.0), pizza (90.0), cajunpizza (54.0)\n",
      "fourcheesestopping :  fourcheesestopping (100.0), cheesetopping (83.87096774193549), leektopping (73.63636363636364)\n",
      "saucetopping :  peperonisausagetopping (78.26086956521739), spinachtopping (76.92307692307692), cajunspicetopping (75.86206896551724)\n",
      "fruittopping :  hotgreenpeppertopping (72.0), jalapenopeppertopping (72.0), greenpeppertopping (72.0)\n",
      "sweetpeppertopping :  greenpeppertopping (83.33333333333334), hotgreenpeppertopping (76.92307692307692), meattopping (72.0)\n",
      "redoniontopping :  oniontopping (88.88888888888889), seafoodtopping (68.96551724137932), olivetopping (66.66666666666667)\n",
      "polloadastra :  napoletanapizza (44.44444444444444), peperonisausagetopping (37.5), asparagustopping (35.71428571428571)\n",
      "pizzatopping :  pizza (90.0), spinachtopping (76.92307692307692), prawnstopping (72.0)\n",
      "hotspicedbeeftopping :  hotspicedbeeftopping (100.0), leektopping (77.14285714285715), meattopping (72.0)\n",
      "asparagustopping :  asparagustopping (100.0), prawnstopping (75.86206896551724), parmahamtopping (70.96774193548387)\n",
      "fruttidimare :  fruttidimarepizza (82.75862068965517), thinandcrispybase (41.379310344827594), fourcheesestopping (37.89473684210526)\n",
      "valuepartition :  meattopping (48.0), vegetabletopping (46.666666666666664), artichoketopping (46.666666666666664)\n",
      "garlictopping :  artichoketopping (75.86206896551724), olivetopping (72.0), vegetabletopping (68.96551724137932)\n",
      "peppertopping :  hotgreenpeppertopping (90.0), jalapenopeppertopping (90.0), greenpeppertopping (83.87096774193549)\n",
      "unclosedpizza :  pizza (90.0), cajunpizza (60.86956521739131), napoletanapizza (57.14285714285714)\n",
      "pizza :  pizza (100.0), americanhotpizza (90.0), cajunpizza (90.0)\n",
      "deeppanbase :  deeppanbase (100.0), thinandcrispybase (52.94117647058824), hotspicedbeeftopping (49.090909090909086)\n",
      "oniontopping :  oniontopping (100.0), olivetopping (75.0), mixedseafoodtopping (73.63636363636364)\n",
      "quattroformaggi :  mushroomtopping (40.0), meattopping (38.46153846153846), fruttidimarepizza (37.5)\n",
      "nonvegetarianpizza :  pizza (90.0), cajunpizza (74.11764705882352), napoletanapizza (66.66666666666667)\n",
      "caprina :  capricciosapizza (75.00000000000001), spinachtopping (60.00000000000001), cajunpizza (58.82352941176471)\n",
      "thinandcrispypizza :  pizza (90.0), spicypizza (80.0), thinandcrispybase (80.0)\n",
      "tomatotopping :  meattopping (83.33333333333334), oniontopping (72.0), artichoketopping (68.96551724137932)\n",
      "hotgreenpeppertopping :  hotgreenpeppertopping (100.0), greenpeppertopping (92.3076923076923), meattopping (72.0)\n",
      "sloppygiuseppe :  jalapenopeppertopping (46.66666666666668), asparagustopping (46.666666666666664), peperonisausagetopping (45.0)\n",
      "medium :  americanhotpizza (49.090909090909086), mixedseafoodtopping (49.090909090909086), mushroomtopping (45.0)\n",
      "sundriedtomatotopping :  meattopping (81.81818181818181), oniontopping (72.0), olivetopping (72.0)\n",
      "peperonisausagetopping :  peperonisausagetopping (100.0), meattopping (75.78947368421052), leektopping (75.78947368421052)\n",
      "princecarlo :  pizza (45.0), capricciosapizza (44.44444444444444), peperonisausagetopping (42.35294117647059)\n",
      "jalapenopeppertopping :  jalapenopeppertopping (100.0), greenpeppertopping (76.92307692307692), meattopping (72.0)\n",
      "fourseasons :  fourcheesestopping (62.06896551724138), mozzarellatopping (42.85714285714286), prawnstopping (41.666666666666664)\n",
      "mushroomtopping :  mushroomtopping (100.0), seafoodtopping (68.96551724137932), oniontopping (66.66666666666667)\n",
      "rosa :  capricciosapizza (67.5), seafoodtopping (51.42857142857142), prawnstopping (51.42857142857142)\n",
      "rockettopping :  artichoketopping (75.86206896551724), meattopping (75.0), chickentopping (74.07407407407408)\n",
      "nuttopping :  meattopping (76.19047619047619), asparagustopping (75.78947368421052), mozzarellatopping (74.11764705882352)\n",
      "spicypizza :  spicypizza (100.0), pizza (90.0), capricciosapizza (63.52941176470588)\n",
      "thinandcrispybase :  thinandcrispybase (100.0), deeppanbase (52.94117647058824), spicypizza (42.35294117647059)\n",
      "meattopping :  meattopping (100.0), mozzarellatopping (75.78947368421052), cajunspicetopping (75.78947368421052)\n",
      "meatypizza :  pizza (90.0), americanhotpizza (69.23076923076923), fruttidimarepizza (67.5)\n",
      "leektopping :  leektopping (100.0), cheesyvegetabletopping (81.0), olivetopping (78.26086956521739)\n",
      "giardiniera :  pizza (45.0), americanhotpizza (44.44444444444444), fruttidimarepizza (42.857142857142854)\n",
      "cajun :  cajunspicetopping (90.0), cajunpizza (90.0), americanhotpizza (54.0)\n",
      "cheesypizza :  pizza (90.0), spicypizza (66.66666666666667), cheesyvegetabletopping (63.52941176470588)\n",
      "vegetariantopping :  vegetabletopping (78.78787878787878), meattopping (72.0), leektopping (70.00000000000001)\n",
      "parmezantopping :  parmahamtopping (80.0), prawnstopping (78.57142857142857), meattopping (76.92307692307692)\n",
      "fiorentina :  oniontopping (54.54545454545454), chickentopping (50.0), fourcheesestopping (50.0)\n",
      "chickentopping :  chickentopping (100.0), cheesetopping (74.07407407407408), artichoketopping (73.33333333333334)\n",
      "slicedtomatotopping :  meattopping (81.81818181818181), oniontopping (72.0), olivetopping (72.0)\n",
      "realitalianpizza :  pizza (90.0), cajunpizza (74.11764705882352), napoletanapizza (64.51612903225806)\n",
      "hot :  americanhotpizza (90.0), hotgreenpeppertopping (90.0), hotspicedbeeftopping (90.0)\n",
      "parmahamtopping :  parmahamtopping (100.0), prawnstopping (71.42857142857143), asparagustopping (70.96774193548387)\n",
      "tobascopeppersaucetopping :  meattopping (75.78947368421052), leektopping (75.78947368421052), cheesetopping (73.63636363636364)\n",
      "cheesyvegetabletopping :  cheesyvegetabletopping (100.0), vegetabletopping (84.21052631578947), leektopping (81.0)\n",
      "mushroom :  mushroomtopping (90.0), seafoodtopping (38.57142857142858), mozzarellatopping (36.0)\n",
      "country :  fourcheesestopping (49.090909090909086), hotgreenpeppertopping (45.0), cajunspicetopping (45.0)\n",
      "artichoketopping :  artichoketopping (100.0), chickentopping (73.33333333333334), cheesetopping (68.96551724137932)\n",
      "capertopping :  hotgreenpeppertopping (81.81818181818181), jalapenopeppertopping (81.81818181818181), greenpeppertopping (81.81818181818181)\n",
      "hamtopping :  parmahamtopping (90.0), mozzarellatopping (80.0), mushroomtopping (80.0)\n",
      "food :  seafoodtopping (90.0), mixedseafoodtopping (90.0), fourcheesestopping (60.00000000000001)\n",
      "goatscheesetopping :  cheesetopping (83.87096774193549), fourcheesestopping (77.77777777777779), leektopping (77.14285714285715)\n",
      "prawnstopping :  prawnstopping (100.0), asparagustopping (75.86206896551724), parmahamtopping (71.42857142857143)\n",
      "american :  americanhotpizza (90.0), artichoketopping (55.38461538461539), capricciosapizza (51.42857142857142)\n",
      "interestingpizza :  pizza (90.0), cajunpizza (63.52941176470588), spicypizza (63.0)\n"
     ]
    }
   ],
   "source": [
    "olaf_llm_class_labels = get_sparql_q_label_res(sparql_q=owl_classes_sparql_q, graph=olaf_llm_graph, ns=olaf_nlp4kgc_ns_bindings)\n",
    "olaf_llm_class_labels = list({label.lower().replace(str(olaf_nlp4kgc_ns), \"\") for label in olaf_llm_class_labels})\n",
    "\n",
    "# Uncomment this to visualise the string alignments\n",
    "for true_label in pizza_onto_class_labels:\n",
    "    res = process.extract(true_label, olaf_llm_class_labels, scorer=fuzz.WRatio, limit=3)\n",
    "    print(f\"{true_label} :  {res[0][0]} ({res[0][1]}), {res[1][0]} ({res[1][1]}), {res[2][0]} ({res[2][1]})\") \n",
    "    "
   ]
  },
  {
   "cell_type": "code",
   "execution_count": null,
   "metadata": {},
   "outputs": [],
   "source": [
    "common_classes_pizza_olaf_llm=19"
   ]
  },
  {
   "cell_type": "code",
   "execution_count": null,
   "metadata": {},
   "outputs": [],
   "source": [
    "olaf_no_llm_class_labels = get_sparql_q_label_res(sparql_q=owl_classes_labels_sparql_q, graph=olaf_no_llm_graph, ns=olaf_nlp4kgc_ns_bindings)\n",
    "olaf_no_llm_class_labels = list({label.lower().replace(\" \", \"\") for label in olaf_no_llm_class_labels})\n",
    "\n",
    "# Uncomment this to visualise the string alignments\n",
    "# for true_label in pizza_onto_class_labels:\n",
    "#     res = process.extract(true_label, olaf_no_llm_class_labels, scorer=fuzz.WRatio, limit=3)\n",
    "#     print(f\"{true_label} :  {res[0][0]} ({res[0][1]}), {res[1][0]} ({res[1][1]}), {res[2][0]} ({res[2][1]})\") \n",
    "    "
   ]
  },
  {
   "cell_type": "code",
   "execution_count": null,
   "metadata": {},
   "outputs": [],
   "source": [
    "common_classes_pizza_olaf_no_llm=43"
   ]
  },
  {
   "cell_type": "markdown",
   "metadata": {},
   "source": [
    "Individuals"
   ]
  },
  {
   "cell_type": "code",
   "execution_count": 324,
   "metadata": {},
   "outputs": [],
   "source": [
    "pizza_onto_ind_uri = get_sparql_q_label_res(sparql_q=owl_named_ind_from_obj_props_sparql_q, graph=pizza_onto_graph, ns=olaf_nlp4kgc_ns_bindings)\n",
    "pizza_onto_ind_uri = list({label.lower().replace(str(pizza_onto_ns), \"\") for label in pizza_onto_ind_uri})"
   ]
  },
  {
   "cell_type": "code",
   "execution_count": 325,
   "metadata": {},
   "outputs": [],
   "source": [
    "llm_text2owl_ind_uri = get_sparql_q_label_res(sparql_q=owl_named_ind_from_obj_props_sparql_q, graph=olaf_llm_graph, ns=olaf_nlp4kgc_ns_bindings)\n",
    "llm_text2owl_ind_uri = list({label.lower().replace(str(olaf_nlp4kgc_ns), \"\") for label in llm_text2owl_ind_uri})\n",
    "\n",
    "# Uncomment this to visualise the string alignments\n",
    "# for true_label in pizza_onto_ind_uri:\n",
    "#     res = process.extract(true_label, llm_text2owl_ind_uri, scorer=fuzz.WRatio, limit=3)\n",
    "#     print(f\"{true_label} :  {res[0][0]} ({res[0][1]}), {res[1][0]} ({res[1][1]}), {res[2][0]} ({res[2][1]})\") \n",
    "    "
   ]
  },
  {
   "cell_type": "code",
   "execution_count": null,
   "metadata": {},
   "outputs": [],
   "source": [
    "common_ind_pizza_text2owl=0"
   ]
  },
  {
   "cell_type": "code",
   "execution_count": 328,
   "metadata": {},
   "outputs": [
    {
     "ename": "IndexError",
     "evalue": "list index out of range",
     "output_type": "error",
     "traceback": [
      "\u001b[1;31m---------------------------------------------------------------------------\u001b[0m",
      "\u001b[1;31mIndexError\u001b[0m                                Traceback (most recent call last)",
      "Cell \u001b[1;32mIn[328], line 7\u001b[0m\n\u001b[0;32m      5\u001b[0m \u001b[38;5;28;01mfor\u001b[39;00m true_label \u001b[38;5;129;01min\u001b[39;00m pizza_onto_ind_uri:\n\u001b[0;32m      6\u001b[0m     res \u001b[38;5;241m=\u001b[39m process\u001b[38;5;241m.\u001b[39mextract(true_label, olaf_llm_ind_uri, scorer\u001b[38;5;241m=\u001b[39mfuzz\u001b[38;5;241m.\u001b[39mWRatio, limit\u001b[38;5;241m=\u001b[39m\u001b[38;5;241m3\u001b[39m)\n\u001b[1;32m----> 7\u001b[0m     \u001b[38;5;28mprint\u001b[39m(\u001b[38;5;124mf\u001b[39m\u001b[38;5;124m\"\u001b[39m\u001b[38;5;132;01m{\u001b[39;00mtrue_label\u001b[38;5;132;01m}\u001b[39;00m\u001b[38;5;124m :  \u001b[39m\u001b[38;5;132;01m{\u001b[39;00m\u001b[43mres\u001b[49m\u001b[43m[\u001b[49m\u001b[38;5;241;43m0\u001b[39;49m\u001b[43m]\u001b[49m[\u001b[38;5;241m0\u001b[39m]\u001b[38;5;132;01m}\u001b[39;00m\u001b[38;5;124m (\u001b[39m\u001b[38;5;132;01m{\u001b[39;00mres[\u001b[38;5;241m0\u001b[39m][\u001b[38;5;241m1\u001b[39m]\u001b[38;5;132;01m}\u001b[39;00m\u001b[38;5;124m), \u001b[39m\u001b[38;5;132;01m{\u001b[39;00mres[\u001b[38;5;241m1\u001b[39m][\u001b[38;5;241m0\u001b[39m]\u001b[38;5;132;01m}\u001b[39;00m\u001b[38;5;124m (\u001b[39m\u001b[38;5;132;01m{\u001b[39;00mres[\u001b[38;5;241m1\u001b[39m][\u001b[38;5;241m1\u001b[39m]\u001b[38;5;132;01m}\u001b[39;00m\u001b[38;5;124m), \u001b[39m\u001b[38;5;132;01m{\u001b[39;00mres[\u001b[38;5;241m2\u001b[39m][\u001b[38;5;241m0\u001b[39m]\u001b[38;5;132;01m}\u001b[39;00m\u001b[38;5;124m (\u001b[39m\u001b[38;5;132;01m{\u001b[39;00mres[\u001b[38;5;241m2\u001b[39m][\u001b[38;5;241m1\u001b[39m]\u001b[38;5;132;01m}\u001b[39;00m\u001b[38;5;124m)\u001b[39m\u001b[38;5;124m\"\u001b[39m) \n",
      "\u001b[1;31mIndexError\u001b[0m: list index out of range"
     ]
    }
   ],
   "source": [
    "olaf_llm_ind_uri = get_sparql_q_label_res(sparql_q=owl_named_ind_from_obj_props_sparql_q, graph=olaf_llm_graph, ns=olaf_nlp4kgc_ns_bindings)\n",
    "olaf_llm_ind_uri = list({label.lower().replace(str(olaf_nlp4kgc_ns), \"\") for label in olaf_llm_ind_uri})\n",
    "\n",
    "# Uncomment this to visualise the string alignments\n",
    "for true_label in pizza_onto_ind_uri:\n",
    "    res = process.extract(true_label, olaf_llm_ind_uri, scorer=fuzz.WRatio, limit=3)\n",
    "    print(f\"{true_label} :  {res[0][0]} ({res[0][1]}), {res[1][0]} ({res[1][1]}), {res[2][0]} ({res[2][1]})\") "
   ]
  },
  {
   "cell_type": "code",
   "execution_count": null,
   "metadata": {},
   "outputs": [],
   "source": [
    "common_ind_pizza_olaf_llm = 0"
   ]
  },
  {
   "cell_type": "code",
   "execution_count": null,
   "metadata": {},
   "outputs": [],
   "source": [
    "olaf_no_llm_ind_uri = get_sparql_q_label_res(sparql_q=owl_named_ind_from_obj_props_sparql_q, graph=olaf_no_llm_graph, ns=olaf_nlp4kgc_ns_bindings)\n",
    "olaf_no_llm_ind_uri = list({label.lower().replace(str(olaf_nlp4kgc_ns), \"\") for label in olaf_no_llm_ind_uri})\n",
    "\n",
    "# Uncomment this to visualise the string alignments\n",
    "# for true_label in pizza_onto_ind_uri:\n",
    "#     res = process.extract(true_label, olaf_no_llm_ind_uri, scorer=fuzz.WRatio, limit=3)\n",
    "#     print(f\"{true_label} :  {res[0][0]} ({res[0][1]}), {res[1][0]} ({res[1][1]}), {res[2][0]} ({res[2][1]})\")"
   ]
  },
  {
   "cell_type": "code",
   "execution_count": null,
   "metadata": {},
   "outputs": [],
   "source": [
    "common_ind_pizza_olaf_no_llm = 2"
   ]
  },
  {
   "cell_type": "markdown",
   "metadata": {},
   "source": [
    "Classes + indiviuals"
   ]
  },
  {
   "cell_type": "code",
   "execution_count": 330,
   "metadata": {},
   "outputs": [],
   "source": [
    "pizza_onto_classes_ind_uri = get_sparql_q_label_res(sparql_q=owl_named_classes_ind_from_obj_props_sparql_q, graph=pizza_onto_graph, ns=olaf_nlp4kgc_ns_bindings)\n",
    "pizza_onto_classes_ind_uri = list({label.lower().replace(str(pizza_onto_ns), \"\") for label in pizza_onto_classes_ind_uri})\n",
    "pizza_onto_classes_ind_uri = [uri for uri in pizza_onto_classes_ind_uri if not(uri[0:2]==\"nc\")]"
   ]
  },
  {
   "cell_type": "code",
   "execution_count": null,
   "metadata": {},
   "outputs": [
    {
     "ename": "NameError",
     "evalue": "name 'pizza_onto_classes_ind_uri' is not defined",
     "output_type": "error",
     "traceback": [
      "\u001b[1;31m---------------------------------------------------------------------------\u001b[0m",
      "\u001b[1;31mNameError\u001b[0m                                 Traceback (most recent call last)",
      "Cell \u001b[1;32mIn[329], line 5\u001b[0m\n\u001b[0;32m      2\u001b[0m llm_text2owl_classes_ind_uri \u001b[38;5;241m=\u001b[39m \u001b[38;5;28mlist\u001b[39m({label\u001b[38;5;241m.\u001b[39mlower()\u001b[38;5;241m.\u001b[39mreplace(\u001b[38;5;28mstr\u001b[39m(olaf_nlp4kgc_ns), \u001b[38;5;124m\"\u001b[39m\u001b[38;5;124m\"\u001b[39m) \u001b[38;5;28;01mfor\u001b[39;00m label \u001b[38;5;129;01min\u001b[39;00m llm_text2owl_classes_ind_uri})\n\u001b[0;32m      4\u001b[0m \u001b[38;5;66;03m# Uncomment this for loop to visualise the string alignments\u001b[39;00m\n\u001b[1;32m----> 5\u001b[0m \u001b[38;5;28;01mfor\u001b[39;00m true_label \u001b[38;5;129;01min\u001b[39;00m \u001b[43mpizza_onto_classes_ind_uri\u001b[49m:\n\u001b[0;32m      6\u001b[0m     res \u001b[38;5;241m=\u001b[39m process\u001b[38;5;241m.\u001b[39mextract(true_label, llm_text2owl_classes_ind_uri, scorer\u001b[38;5;241m=\u001b[39mfuzz\u001b[38;5;241m.\u001b[39mWRatio, limit\u001b[38;5;241m=\u001b[39m\u001b[38;5;241m3\u001b[39m)\n\u001b[0;32m      7\u001b[0m     \u001b[38;5;28mprint\u001b[39m(\u001b[38;5;124mf\u001b[39m\u001b[38;5;124m\"\u001b[39m\u001b[38;5;132;01m{\u001b[39;00mtrue_label\u001b[38;5;132;01m}\u001b[39;00m\u001b[38;5;124m :  \u001b[39m\u001b[38;5;132;01m{\u001b[39;00mres[\u001b[38;5;241m0\u001b[39m][\u001b[38;5;241m0\u001b[39m]\u001b[38;5;132;01m}\u001b[39;00m\u001b[38;5;124m (\u001b[39m\u001b[38;5;132;01m{\u001b[39;00mres[\u001b[38;5;241m0\u001b[39m][\u001b[38;5;241m1\u001b[39m]\u001b[38;5;132;01m}\u001b[39;00m\u001b[38;5;124m), \u001b[39m\u001b[38;5;132;01m{\u001b[39;00mres[\u001b[38;5;241m1\u001b[39m][\u001b[38;5;241m0\u001b[39m]\u001b[38;5;132;01m}\u001b[39;00m\u001b[38;5;124m (\u001b[39m\u001b[38;5;132;01m{\u001b[39;00mres[\u001b[38;5;241m1\u001b[39m][\u001b[38;5;241m1\u001b[39m]\u001b[38;5;132;01m}\u001b[39;00m\u001b[38;5;124m), \u001b[39m\u001b[38;5;132;01m{\u001b[39;00mres[\u001b[38;5;241m2\u001b[39m][\u001b[38;5;241m0\u001b[39m]\u001b[38;5;132;01m}\u001b[39;00m\u001b[38;5;124m (\u001b[39m\u001b[38;5;132;01m{\u001b[39;00mres[\u001b[38;5;241m2\u001b[39m][\u001b[38;5;241m1\u001b[39m]\u001b[38;5;132;01m}\u001b[39;00m\u001b[38;5;124m)\u001b[39m\u001b[38;5;124m\"\u001b[39m) \n",
      "\u001b[1;31mNameError\u001b[0m: name 'pizza_onto_classes_ind_uri' is not defined"
     ]
    }
   ],
   "source": [
    "llm_text2owl_classes_ind_uri = get_sparql_q_label_res(sparql_q=owl_named_classes_ind_from_obj_props_sparql_q, graph=llm_text2owl_graph, ns=olaf_nlp4kgc_ns_bindings)\n",
    "llm_text2owl_classes_ind_uri = list({label.lower().replace(str(olaf_nlp4kgc_ns), \"\") for label in llm_text2owl_classes_ind_uri})\n",
    "\n",
    "# Uncomment this for loop to visualise the string alignments\n",
    "for true_label in pizza_onto_classes_ind_uri:\n",
    "    res = process.extract(true_label, llm_text2owl_classes_ind_uri, scorer=fuzz.WRatio, limit=3)\n",
    "    print(f\"{true_label} :  {res[0][0]} ({res[0][1]}), {res[1][0]} ({res[1][1]}), {res[2][0]} ({res[2][1]})\") \n",
    "    "
   ]
  },
  {
   "cell_type": "code",
   "execution_count": null,
   "metadata": {},
   "outputs": [],
   "source": [
    "common_classes_ind_pizza_text2owl=20"
   ]
  },
  {
   "cell_type": "code",
   "execution_count": null,
   "metadata": {},
   "outputs": [],
   "source": [
    "olaf_llm_classes_ind_uri = get_sparql_q_label_res(sparql_q=owl_named_classes_ind_from_obj_props_sparql_q, graph=olaf_llm_graph, ns=olaf_nlp4kgc_ns_bindings)\n",
    "olaf_llm_classes_ind_uri = list({label.lower().replace(str(olaf_nlp4kgc_ns), \"\") for label in olaf_llm_classes_ind_uri})\n",
    "\n",
    "# Uncomment this for loop to visualise the string alignments\n",
    "# for true_label in pizza_onto_classes_ind_uri:\n",
    "#     res = process.extract(true_label, olaf_llm_classes_ind_uri, scorer=fuzz.WRatio, limit=3)\n",
    "#     print(f\"{true_label} :  {res[0][0]} ({res[0][1]}), {res[1][0]} ({res[1][1]}), {res[2][0]} ({res[2][1]})\") \n",
    "    "
   ]
  },
  {
   "cell_type": "code",
   "execution_count": null,
   "metadata": {},
   "outputs": [],
   "source": [
    "common_classes_ind_pizza_olaf_llm=14"
   ]
  },
  {
   "cell_type": "code",
   "execution_count": null,
   "metadata": {},
   "outputs": [],
   "source": [
    "olaf_no_llm_classes_ind_uri = get_sparql_q_label_res(sparql_q=owl_named_classes_ind_from_obj_props_sparql_q, graph=olaf_no_llm_graph, ns=olaf_nlp4kgc_ns_bindings)\n",
    "olaf_no_llm_classes_ind_uri = list({label.lower().replace(str(olaf_nlp4kgc_ns), \"\") for label in olaf_no_llm_classes_ind_uri})\n",
    "\n",
    "# Uncomment this for loop to visualise the string alignments\n",
    "# for true_label in pizza_onto_classes_ind_uri:\n",
    "#     res = process.extract(true_label, olaf_no_llm_classes_ind_uri, scorer=fuzz.WRatio, limit=3)\n",
    "#     print(f\"{true_label} :  {res[0][0]} ({res[0][1]}), {res[1][0]} ({res[1][1]}), {res[2][0]} ({res[2][1]})\") "
   ]
  },
  {
   "cell_type": "code",
   "execution_count": null,
   "metadata": {},
   "outputs": [],
   "source": [
    "common_classes_ind_pizza_olaf_no_llm=59"
   ]
  },
  {
   "cell_type": "markdown",
   "metadata": {},
   "source": [
    "Object properties"
   ]
  },
  {
   "cell_type": "code",
   "execution_count": 532,
   "metadata": {},
   "outputs": [],
   "source": [
    "pizza_onto_obj_prop_uri = get_sparql_q_label_res(sparql_q=owl_obj_props_sparql_q, graph=pizza_onto_graph, ns=olaf_nlp4kgc_ns_bindings)\n",
    "pizza_onto_obj_prop_uri = list({label.lower().replace(str(pizza_onto_ns), \"\") for label in pizza_onto_obj_prop_uri})"
   ]
  },
  {
   "cell_type": "code",
   "execution_count": 533,
   "metadata": {},
   "outputs": [
    {
     "data": {
      "text/plain": [
       "['hasspiciness',\n",
       " 'hasbase',\n",
       " 'hastopping',\n",
       " 'hasingredient',\n",
       " 'isbaseof',\n",
       " 'istoppingof',\n",
       " 'hascountryoforigin',\n",
       " 'isingredientof']"
      ]
     },
     "execution_count": 533,
     "metadata": {},
     "output_type": "execute_result"
    }
   ],
   "source": [
    "pizza_onto_obj_prop_uri"
   ]
  },
  {
   "cell_type": "code",
   "execution_count": 534,
   "metadata": {},
   "outputs": [],
   "source": [
    "llm_text2owl_obj_prop_uri = get_sparql_q_label_res(sparql_q=owl_obj_props_sparql_q, graph=olaf_llm_graph, ns=olaf_nlp4kgc_ns_bindings)\n",
    "llm_text2owl_obj_prop_uri = list({label.lower().replace(str(olaf_nlp4kgc_ns), \"\") for label in llm_text2owl_obj_prop_uri})\n",
    "\n",
    "# Uncomment this to visualise the string alignments\n",
    "# for true_label in pizza_onto_obj_prop_uri:\n",
    "#     res = process.extract(true_label, llm_text2owl_obj_prop_uri, scorer=fuzz.WRatio, limit=2)\n",
    "#     print(f\"{true_label} :  {res[0][0]} ({res[0][1]}), {res[1][0]} ({res[1][1]})\") \n",
    "    "
   ]
  },
  {
   "cell_type": "code",
   "execution_count": 535,
   "metadata": {},
   "outputs": [
    {
     "data": {
      "text/plain": [
       "['hastopping', 'hasbasetype']"
      ]
     },
     "execution_count": 535,
     "metadata": {},
     "output_type": "execute_result"
    }
   ],
   "source": [
    "llm_text2owl_obj_prop_uri"
   ]
  },
  {
   "cell_type": "code",
   "execution_count": 536,
   "metadata": {},
   "outputs": [],
   "source": [
    "common_obj_prop_pizza_text2owl=2"
   ]
  },
  {
   "cell_type": "code",
   "execution_count": 539,
   "metadata": {},
   "outputs": [
    {
     "ename": "IndexError",
     "evalue": "list index out of range",
     "output_type": "error",
     "traceback": [
      "\u001b[1;31m---------------------------------------------------------------------------\u001b[0m",
      "\u001b[1;31mIndexError\u001b[0m                                Traceback (most recent call last)",
      "Cell \u001b[1;32mIn[539], line 7\u001b[0m\n\u001b[0;32m      5\u001b[0m \u001b[38;5;28;01mfor\u001b[39;00m true_label \u001b[38;5;129;01min\u001b[39;00m pizza_onto_obj_prop_uri:\n\u001b[0;32m      6\u001b[0m     res \u001b[38;5;241m=\u001b[39m process\u001b[38;5;241m.\u001b[39mextract(true_label, olaf_llm_obj_prop_uri, scorer\u001b[38;5;241m=\u001b[39mfuzz\u001b[38;5;241m.\u001b[39mWRatio, limit\u001b[38;5;241m=\u001b[39m\u001b[38;5;241m3\u001b[39m)\n\u001b[1;32m----> 7\u001b[0m     \u001b[38;5;28mprint\u001b[39m(\u001b[38;5;124mf\u001b[39m\u001b[38;5;124m\"\u001b[39m\u001b[38;5;132;01m{\u001b[39;00mtrue_label\u001b[38;5;132;01m}\u001b[39;00m\u001b[38;5;124m :  \u001b[39m\u001b[38;5;132;01m{\u001b[39;00mres[\u001b[38;5;241m0\u001b[39m][\u001b[38;5;241m0\u001b[39m]\u001b[38;5;132;01m}\u001b[39;00m\u001b[38;5;124m (\u001b[39m\u001b[38;5;132;01m{\u001b[39;00mres[\u001b[38;5;241m0\u001b[39m][\u001b[38;5;241m1\u001b[39m]\u001b[38;5;132;01m}\u001b[39;00m\u001b[38;5;124m), \u001b[39m\u001b[38;5;132;01m{\u001b[39;00mres[\u001b[38;5;241m1\u001b[39m][\u001b[38;5;241m0\u001b[39m]\u001b[38;5;132;01m}\u001b[39;00m\u001b[38;5;124m (\u001b[39m\u001b[38;5;132;01m{\u001b[39;00mres[\u001b[38;5;241m1\u001b[39m][\u001b[38;5;241m1\u001b[39m]\u001b[38;5;132;01m}\u001b[39;00m\u001b[38;5;124m), \u001b[39m\u001b[38;5;132;01m{\u001b[39;00m\u001b[43mres\u001b[49m\u001b[43m[\u001b[49m\u001b[38;5;241;43m2\u001b[39;49m\u001b[43m]\u001b[49m[\u001b[38;5;241m0\u001b[39m]\u001b[38;5;132;01m}\u001b[39;00m\u001b[38;5;124m (\u001b[39m\u001b[38;5;132;01m{\u001b[39;00mres[\u001b[38;5;241m2\u001b[39m][\u001b[38;5;241m1\u001b[39m]\u001b[38;5;132;01m}\u001b[39;00m\u001b[38;5;124m)\u001b[39m\u001b[38;5;124m\"\u001b[39m) \n",
      "\u001b[1;31mIndexError\u001b[0m: list index out of range"
     ]
    }
   ],
   "source": [
    "olaf_llm_obj_prop_uri = get_sparql_q_label_res(sparql_q=owl_obj_props_sparql_q, graph=olaf_llm_graph, ns=olaf_nlp4kgc_ns_bindings)\n",
    "olaf_llm_obj_prop_uri = list({label.lower().replace(str(olaf_nlp4kgc_ns), \"\") for label in olaf_llm_obj_prop_uri})\n",
    "\n",
    "# Uncomment this to visualise the string alignments\n",
    "for true_label in pizza_onto_obj_prop_uri:\n",
    "    res = process.extract(true_label, olaf_llm_obj_prop_uri, scorer=fuzz.WRatio, limit=3)\n",
    "    print(f\"{true_label} :  {res[0][0]} ({res[0][1]}), {res[1][0]} ({res[1][1]}), {res[2][0]} ({res[2][1]})\") "
   ]
  },
  {
   "cell_type": "code",
   "execution_count": null,
   "metadata": {},
   "outputs": [],
   "source": [
    "common_obj_prop_pizza_olaf_llm = 0"
   ]
  },
  {
   "cell_type": "code",
   "execution_count": null,
   "metadata": {},
   "outputs": [],
   "source": [
    "olaf_no_llm_obj_prop_uri = get_sparql_q_label_res(sparql_q=owl_obj_props_sparql_q, graph=olaf_no_llm_graph, ns=olaf_nlp4kgc_ns_bindings)\n",
    "olaf_no_llm_obj_prop_uri = list({label.lower().replace(str(olaf_nlp4kgc_ns), \"\") for label in olaf_no_llm_obj_prop_uri})\n",
    "\n",
    "# Uncomment this to visualise the string alignments\n",
    "# for true_label in pizza_onto_obj_prop_uri:\n",
    "#     res = process.extract(true_label, olaf_no_llm_obj_prop_uri, scorer=fuzz.WRatio, limit=3)\n",
    "#     print(f\"{true_label} :  {res[0][0]} ({res[0][1]}), {res[1][0]} ({res[1][1]}), {res[2][0]} ({res[2][1]})\") "
   ]
  },
  {
   "cell_type": "code",
   "execution_count": null,
   "metadata": {},
   "outputs": [],
   "source": [
    "common_obj_prop_pizza_olaf_no_llm = 3"
   ]
  },
  {
   "cell_type": "markdown",
   "metadata": {},
   "source": [
    "SubClassOf tuples"
   ]
  },
  {
   "cell_type": "code",
   "execution_count": 540,
   "metadata": {},
   "outputs": [],
   "source": [
    "pizza_onto_sub_uri = get_sparql_q_tuple_res(sparql_q=rdfs_subclassof_tuples_sparql_q, graph=pizza_onto_graph, ns=olaf_nlp4kgc_ns_bindings)\n",
    "pizza_onto_sub_uri = list({f\"{label[0].lower().replace(str(pizza_onto_ns), '')}#{label[1].lower().replace(str(pizza_onto_ns), '')}\" for label in pizza_onto_sub_uri if not(label[0][0:2]==\"nc\" or label[1][0:2]==\"nc\")})"
   ]
  },
  {
   "cell_type": "code",
   "execution_count": 545,
   "metadata": {},
   "outputs": [
    {
     "data": {
      "text/plain": [
       "257"
      ]
     },
     "execution_count": 545,
     "metadata": {},
     "output_type": "execute_result"
    }
   ],
   "source": [
    "len(pizza_onto_sub_uri)"
   ]
  },
  {
   "cell_type": "code",
   "execution_count": null,
   "metadata": {},
   "outputs": [],
   "source": [
    "llm_text2owl_sub_uri = get_sparql_q_tuple_res(sparql_q=rdfs_subclassof_tuples_sparql_q, graph=olaf_llm_graph, ns=olaf_nlp4kgc_ns_bindings)\n",
    "llm_text2owl_sub_uri = list({f\"{label[0].lower().replace(str(olaf_nlp4kgc_ns), '')}#{label[1].lower().replace(str(olaf_nlp4kgc_ns), '')}\" for label in llm_text2owl_sub_uri})\n",
    "\n",
    "# Uncomment this for loop to visualise the string alignments\n",
    "for true_label in pizza_onto_sub_uri:\n",
    "    res = process.extract(true_label, llm_text2owl_sub_uri, scorer=fuzz.WRatio, limit=3)\n",
    "    print(f\"{true_label} :  {res[0][0]} ({res[0][1]}), {res[1][0]} ({res[1][1]}), {res[2][0]} ({res[2][1]})\") \n",
    "    "
   ]
  },
  {
   "cell_type": "code",
   "execution_count": 544,
   "metadata": {},
   "outputs": [
    {
     "data": {
      "text/plain": [
       "32"
      ]
     },
     "execution_count": 544,
     "metadata": {},
     "output_type": "execute_result"
    }
   ],
   "source": [
    "len(llm_text2owl_sub_uri)"
   ]
  },
  {
   "cell_type": "code",
   "execution_count": 549,
   "metadata": {},
   "outputs": [
    {
     "name": "stdout",
     "output_type": "stream",
     "text": [
      "Matching Subclasses: {'cheesetopping', 'vegetabletopping', 'pizza', 'meattopping'}\n",
      "Number of Matching Subclasses: 4\n"
     ]
    }
   ],
   "source": [
    "\n",
    "\n",
    "# Extract only the subclass relationships (right side of #)\n",
    "ontology1_relations = {pair.split(\"#\")[1] for pair in pizza_onto_sub_uri if \"#\" in pair}\n",
    "ontology2_relations = {pair.split(\"#\")[1] for pair in llm_text2owl_sub_uri if \"#\" in pair}\n",
    "\n",
    "# Find the number of matching subclasses\n",
    "matching_subclasses = ontology1_relations.intersection(ontology2_relations)\n",
    "num_matching_subclasses = len(matching_subclasses)\n",
    "\n",
    "# Print results\n",
    "print(\"Matching Subclasses:\", matching_subclasses)\n",
    "print(\"Number of Matching Subclasses:\", num_matching_subclasses)\n"
   ]
  },
  {
   "cell_type": "code",
   "execution_count": 551,
   "metadata": {},
   "outputs": [],
   "source": [
    "common_sub_pizza_text2owl=4"
   ]
  },
  {
   "cell_type": "code",
   "execution_count": null,
   "metadata": {},
   "outputs": [],
   "source": [
    "olaf_llm_sub_uri = get_sparql_q_tuple_res(sparql_q=rdfs_subclassof_tuples_sparql_q, graph=olaf_llm_graph, ns=olaf_nlp4kgc_ns_bindings)\n",
    "olaf_llm_sub_uri = list({f\"{label[0].lower().replace(str(olaf_nlp4kgc_ns), '')}#{label[1].lower().replace(str(olaf_nlp4kgc_ns), '')}\" for label in olaf_llm_sub_uri})\n",
    "\n",
    "# Uncomment this for loop to visualise the string alignments\n",
    "for true_label in pizza_onto_sub_uri:\n",
    "    res = process.extract(true_label, olaf_llm_sub_uri, scorer=fuzz.WRatio, limit=3)\n",
    "    print(f\"{true_label} :  {res[0][0]} ({res[0][1]}), {res[1][0]} ({res[1][1]}), {res[2][0]} ({res[2][1]})\") \n",
    "    "
   ]
  },
  {
   "cell_type": "code",
   "execution_count": null,
   "metadata": {},
   "outputs": [],
   "source": [
    "common_sub_pizza_olaf_llm=4"
   ]
  },
  {
   "cell_type": "code",
   "execution_count": null,
   "metadata": {},
   "outputs": [],
   "source": [
    "olaf_no_llm_sub_uri = get_sparql_q_tuple_res(sparql_q=rdfs_subclassof_tuples_sparql_q, graph=olaf_no_llm_graph, ns=olaf_nlp4kgc_ns_bindings)\n",
    "olaf_no_llm_sub_uri = list({f\"{label[0].lower().replace(str(olaf_nlp4kgc_ns), '')}#{label[1].lower().replace(str(olaf_nlp4kgc_ns), '')}\" for label in olaf_no_llm_sub_uri})\n",
    "\n",
    "# Uncomment this for loop to visualise the string alignments\n",
    "# for true_label in pizza_onto_sub_uri:\n",
    "#     res = process.extract(true_label, olaf_no_llm_sub_uri, scorer=fuzz.WRatio, limit=3)\n",
    "#     print(f\"{true_label} :  {res[0][0]} ({res[0][1]}), {res[1][0]} ({res[1][1]}), {res[2][0]} ({res[2][1]})\") \n",
    "    "
   ]
  },
  {
   "cell_type": "code",
   "execution_count": null,
   "metadata": {},
   "outputs": [],
   "source": [
    "common_sub_pizza_olaf_no_llm=6"
   ]
  },
  {
   "cell_type": "markdown",
   "metadata": {},
   "source": [
    "Results"
   ]
  },
  {
   "cell_type": "code",
   "execution_count": 553,
   "metadata": {},
   "outputs": [],
   "source": [
    "classes_conciseness_text2owl = common_classes_pizza_text2owl/len(llm_text2owl_class_labels)\n",
    "classes_completeness_text2owl = common_classes_pizza_text2owl/len(pizza_onto_class_labels)\n",
    "\n",
    "objectProperties_conciseness_text2owl = common_obj_prop_pizza_text2owl/len(pizza_onto_obj_prop_uri)\n",
    "objectProperties_completeness_text2owl = common_obj_prop_pizza_text2owl/len(llm_text2owl_obj_prop_uri)\n",
    "\n",
    "subClassOfPairs_conciseness_text2owl = common_sub_pizza_text2owl/len(llm_text2owl_sub_uri)\n",
    "subClassOfPairs_completeness_text2owl = common_sub_pizza_text2owl/len(pizza_onto_sub_uri)\n"
   ]
  },
  {
   "cell_type": "code",
   "execution_count": null,
   "metadata": {},
   "outputs": [],
   "source": [
    "classes_conciseness_text2owl = common_classes_pizza_text2owl/len(llm_text2owl_class_labels)\n",
    "classes_conciseness_olafLLM =  common_classes_pizza_olaf_llm/len(olaf_llm_class_labels)\n",
    "classes_conciseness_olafNoLLM = common_classes_pizza_olaf_no_llm/len(olaf_no_llm_class_labels)\n",
    "  \n",
    "classes_completeness_text2owl = common_classes_pizza_text2owl/len(pizza_onto_class_labels)\n",
    "classes_completeness_olafLLM = common_classes_pizza_olaf_llm/len(pizza_onto_class_labels)\n",
    "classes_completeness_olafNoLLM = common_classes_pizza_olaf_no_llm/len(pizza_onto_class_labels)\n",
    "\n",
    "individuals_conciseness_text2owl = common_ind_pizza_text2owl/len(llm_text2owl_ind_uri)\n",
    "individuals_conciseness_olafLLM =  common_ind_pizza_olaf_llm/len(olaf_llm_ind_uri)\n",
    "individuals_conciseness_olafNoLLM = common_ind_pizza_olaf_no_llm/len(olaf_no_llm_ind_uri)\n",
    "\n",
    "individuals_completeness_text2owl = common_ind_pizza_text2owl/len(pizza_onto_ind_uri)\n",
    "individuals_completeness_olafLLM = common_ind_pizza_olaf_llm/len(pizza_onto_ind_uri)\n",
    "individuals_completeness_olafNoLLM = common_ind_pizza_olaf_no_llm/len(pizza_onto_ind_uri)\n",
    "\n",
    "classesAndIndividuals_conciseness_text2owl = common_classes_ind_pizza_text2owl/len(llm_text2owl_classes_ind_uri)\n",
    "classesAndIndividuals_conciseness_olafLLM = common_classes_ind_pizza_olaf_llm/len(olaf_llm_classes_ind_uri)\n",
    "classesAndIndividuals_conciseness_olafNoLLM = common_classes_ind_pizza_olaf_no_llm/len(olaf_no_llm_classes_ind_uri)\n",
    "\n",
    "classesAndIndividuals_completeness_text2owl = common_classes_ind_pizza_text2owl/len(pizza_onto_classes_ind_uri)\n",
    "classesAndIndividuals_completeness_olafLLM = common_classes_ind_pizza_olaf_llm/len(pizza_onto_classes_ind_uri)\n",
    "classesAndIndividuals_completeness_olafNoLLM = common_classes_ind_pizza_olaf_no_llm/len(pizza_onto_classes_ind_uri)\n",
    "\n",
    "objectProperties_conciseness_text2owl = common_obj_prop_pizza_text2owl/len(pizza_onto_obj_prop_uri)\n",
    "objectProperties_conciseness_olafLLM = common_obj_prop_pizza_olaf_llm/len(olaf_llm_obj_prop_uri)\n",
    "objectProperties_conciseness_olafNoLLM = common_obj_prop_pizza_olaf_no_llm/len(olaf_no_llm_obj_prop_uri)\n",
    "\n",
    "objectProperties_completeness_text2owl = common_obj_prop_pizza_text2owl/len(llm_text2owl_obj_prop_uri)\n",
    "objectProperties_completeness_olafLLM = common_obj_prop_pizza_olaf_llm/len(pizza_onto_obj_prop_uri)\n",
    "objectProperties_completeness_olafNoLLM = common_obj_prop_pizza_olaf_no_llm/len(pizza_onto_obj_prop_uri)\n",
    "\n",
    "subClassOfPairs_conciseness_text2owl = common_sub_pizza_text2owl/len(llm_text2owl_sub_uri)\n",
    "subClassOfPairs_conciseness_olafLLM = common_sub_pizza_olaf_llm/len(olaf_llm_sub_uri)\n",
    "subClassOfPairs_conciseness_olafNoLLM = common_sub_pizza_olaf_no_llm/len(olaf_no_llm_sub_uri)\n",
    "\n",
    "subClassOfPairs_completeness_text2owl = common_sub_pizza_text2owl/len(pizza_onto_sub_uri)\n",
    "subClassOfPairs_completeness_olafLLM = common_sub_pizza_olaf_llm/len(pizza_onto_sub_uri)\n",
    "subClassOfPairs_completeness_olafNoLLM = common_sub_pizza_olaf_no_llm/len(pizza_onto_sub_uri)"
   ]
  },
  {
   "cell_type": "code",
   "execution_count": 554,
   "metadata": {},
   "outputs": [],
   "source": [
    "def correctness(conciseness, completeness) -> float:\n",
    "    if conciseness + completeness == 0:\n",
    "        return 0\n",
    "    else:\n",
    "        return 2*(conciseness * completeness) / (conciseness + completeness)"
   ]
  },
  {
   "cell_type": "code",
   "execution_count": null,
   "metadata": {},
   "outputs": [],
   "source": [
    "onto_evaluation = {\n",
    "    \"Metrics\": [\n",
    "        \"Classes conciseness\", \n",
    "        \"Classes completeness\", \n",
    "        \"Classes correctness\",\n",
    "        \"Individuals conciseness\", \n",
    "        \"Individuals completeness\", \n",
    "        \"Individuals correctness\",\n",
    "        \"Classes and individuals conciseness\", \n",
    "        \"Classes and individuals completeness\", \n",
    "        \"Classes and individuals correctness\",\n",
    "        \"Object properties conciseness\", \n",
    "        \"Object properties completeness\", \n",
    "        \"Object properties correctness\",\n",
    "        \"SubClassOf pairs conciseness\", \n",
    "        \"SubClassOf pairs completeness\",\n",
    "        \"SubClassOf pairs correctness\"\n",
    "    ],\n",
    "    \"Text to OWL\": [\n",
    "        classes_conciseness_text2owl, \n",
    "        classes_completeness_text2owl, \n",
    "        correctness(classes_conciseness_text2owl, classes_completeness_text2owl),\n",
    "        individuals_conciseness_text2owl,\n",
    "        individuals_completeness_text2owl, \n",
    "        correctness(individuals_conciseness_text2owl, individuals_completeness_text2owl),\n",
    "        classesAndIndividuals_conciseness_text2owl, \n",
    "        classesAndIndividuals_completeness_text2owl, \n",
    "        correctness(classesAndIndividuals_conciseness_text2owl, classesAndIndividuals_completeness_text2owl),\n",
    "        objectProperties_conciseness_text2owl, \n",
    "        objectProperties_completeness_text2owl, \n",
    "        correctness(objectProperties_conciseness_text2owl, objectProperties_completeness_text2owl),\n",
    "        subClassOfPairs_conciseness_text2owl, \n",
    "        subClassOfPairs_completeness_text2owl,\n",
    "        correctness(subClassOfPairs_conciseness_text2owl, subClassOfPairs_completeness_text2owl,)\n",
    "    ],\n",
    "    \"OLAF LLM\": [\n",
    "        classes_conciseness_olafLLM, \n",
    "        classes_completeness_olafLLM, \n",
    "        correctness(classes_conciseness_olafLLM, classes_completeness_olafLLM),\n",
    "        individuals_conciseness_olafLLM, \n",
    "        individuals_completeness_olafLLM, \n",
    "        correctness(individuals_conciseness_olafLLM, individuals_completeness_olafLLM),\n",
    "        classesAndIndividuals_conciseness_olafLLM, \n",
    "        classesAndIndividuals_completeness_olafLLM, \n",
    "        correctness(classesAndIndividuals_conciseness_olafLLM, classesAndIndividuals_completeness_olafLLM),\n",
    "        objectProperties_conciseness_olafLLM, \n",
    "        objectProperties_completeness_olafLLM, \n",
    "        correctness(objectProperties_conciseness_olafLLM, objectProperties_completeness_olafLLM),\n",
    "        subClassOfPairs_conciseness_olafLLM,\n",
    "        subClassOfPairs_completeness_olafLLM,\n",
    "        correctness(subClassOfPairs_conciseness_olafLLM, subClassOfPairs_completeness_olafLLM)\n",
    "    ],\n",
    "    \"OLAF no LLM\": [\n",
    "        classes_conciseness_olafNoLLM,\n",
    "        classes_completeness_olafNoLLM,\n",
    "        correctness(classes_conciseness_olafNoLLM, classes_completeness_olafNoLLM),\n",
    "        individuals_conciseness_olafNoLLM,\n",
    "        individuals_completeness_olafNoLLM,\n",
    "        correctness(individuals_conciseness_olafNoLLM, individuals_completeness_olafNoLLM),\n",
    "        classesAndIndividuals_conciseness_olafNoLLM,\n",
    "        classesAndIndividuals_completeness_olafNoLLM,\n",
    "        correctness(classesAndIndividuals_conciseness_olafNoLLM, classesAndIndividuals_completeness_olafNoLLM),\n",
    "        objectProperties_conciseness_olafNoLLM,\n",
    "        objectProperties_completeness_olafNoLLM,\n",
    "        correctness(objectProperties_conciseness_olafNoLLM, objectProperties_completeness_olafNoLLM),\n",
    "        subClassOfPairs_conciseness_olafNoLLM,\n",
    "        subClassOfPairs_completeness_olafNoLLM,\n",
    "        correctness(subClassOfPairs_conciseness_olafNoLLM, subClassOfPairs_completeness_olafNoLLM)\n",
    "    ]\n",
    "}\n",
    "\n",
    "df_evaluation = pd.DataFrame(onto_evaluation)"
   ]
  },
  {
   "cell_type": "code",
   "execution_count": null,
   "metadata": {},
   "outputs": [],
   "source": [
    "df_evaluation"
   ]
  },
  {
   "cell_type": "code",
   "execution_count": null,
   "metadata": {},
   "outputs": [],
   "source": []
  },
  {
   "cell_type": "code",
   "execution_count": 555,
   "metadata": {},
   "outputs": [],
   "source": [
    "onto_evaluation = {\n",
    "    \"Metrics\": [\n",
    "        \"Classes conciseness\", \n",
    "        \"Classes completeness\", \n",
    "        \"Classes correctness\",\n",
    "        \"Object properties conciseness\", \n",
    "        \"Object properties completeness\", \n",
    "        \"Object properties correctness\", \n",
    "        \"SubClassOf pairs conciseness\", \n",
    "        \"SubClassOf pairs completeness\",\n",
    "        \"SubClassOf pairs correctness\"\n",
    "    ],\n",
    "    \"Text to OWL\": [\n",
    "        classes_conciseness_text2owl, \n",
    "        classes_completeness_text2owl, \n",
    "        correctness(classes_conciseness_text2owl, classes_completeness_text2owl),\n",
    "        objectProperties_conciseness_text2owl, \n",
    "        objectProperties_completeness_text2owl, \n",
    "        correctness(objectProperties_conciseness_text2owl, objectProperties_completeness_text2owl),\n",
    "        subClassOfPairs_conciseness_text2owl, \n",
    "        subClassOfPairs_completeness_text2owl,\n",
    "        correctness(subClassOfPairs_conciseness_text2owl, subClassOfPairs_completeness_text2owl,)\n",
    "    ]\n",
    "}\n",
    "\n",
    "df_evaluation = pd.DataFrame(onto_evaluation)"
   ]
  },
  {
   "cell_type": "code",
   "execution_count": 556,
   "metadata": {},
   "outputs": [
    {
     "data": {
      "text/html": [
       "<div>\n",
       "<style scoped>\n",
       "    .dataframe tbody tr th:only-of-type {\n",
       "        vertical-align: middle;\n",
       "    }\n",
       "\n",
       "    .dataframe tbody tr th {\n",
       "        vertical-align: top;\n",
       "    }\n",
       "\n",
       "    .dataframe thead th {\n",
       "        text-align: right;\n",
       "    }\n",
       "</style>\n",
       "<table border=\"1\" class=\"dataframe\">\n",
       "  <thead>\n",
       "    <tr style=\"text-align: right;\">\n",
       "      <th></th>\n",
       "      <th>Metrics</th>\n",
       "      <th>Text to OWL</th>\n",
       "    </tr>\n",
       "  </thead>\n",
       "  <tbody>\n",
       "    <tr>\n",
       "      <th>0</th>\n",
       "      <td>Classes conciseness</td>\n",
       "      <td>0.848485</td>\n",
       "    </tr>\n",
       "    <tr>\n",
       "      <th>1</th>\n",
       "      <td>Classes completeness</td>\n",
       "      <td>0.294737</td>\n",
       "    </tr>\n",
       "    <tr>\n",
       "      <th>2</th>\n",
       "      <td>Classes correctness</td>\n",
       "      <td>0.437500</td>\n",
       "    </tr>\n",
       "    <tr>\n",
       "      <th>3</th>\n",
       "      <td>Object properties conciseness</td>\n",
       "      <td>0.250000</td>\n",
       "    </tr>\n",
       "    <tr>\n",
       "      <th>4</th>\n",
       "      <td>Object properties completeness</td>\n",
       "      <td>1.000000</td>\n",
       "    </tr>\n",
       "    <tr>\n",
       "      <th>5</th>\n",
       "      <td>Object properties correctness</td>\n",
       "      <td>0.400000</td>\n",
       "    </tr>\n",
       "    <tr>\n",
       "      <th>6</th>\n",
       "      <td>SubClassOf pairs conciseness</td>\n",
       "      <td>0.125000</td>\n",
       "    </tr>\n",
       "    <tr>\n",
       "      <th>7</th>\n",
       "      <td>SubClassOf pairs completeness</td>\n",
       "      <td>0.015564</td>\n",
       "    </tr>\n",
       "    <tr>\n",
       "      <th>8</th>\n",
       "      <td>SubClassOf pairs correctness</td>\n",
       "      <td>0.027682</td>\n",
       "    </tr>\n",
       "  </tbody>\n",
       "</table>\n",
       "</div>"
      ],
      "text/plain": [
       "                          Metrics  Text to OWL\n",
       "0             Classes conciseness     0.848485\n",
       "1            Classes completeness     0.294737\n",
       "2             Classes correctness     0.437500\n",
       "3   Object properties conciseness     0.250000\n",
       "4  Object properties completeness     1.000000\n",
       "5   Object properties correctness     0.400000\n",
       "6    SubClassOf pairs conciseness     0.125000\n",
       "7   SubClassOf pairs completeness     0.015564\n",
       "8    SubClassOf pairs correctness     0.027682"
      ]
     },
     "execution_count": 556,
     "metadata": {},
     "output_type": "execute_result"
    }
   ],
   "source": [
    "df_evaluation"
   ]
  },
  {
   "cell_type": "code",
   "execution_count": null,
   "metadata": {},
   "outputs": [],
   "source": []
  }
 ],
 "metadata": {
  "kernelspec": {
   "display_name": ".venv",
   "language": "python",
   "name": "python3"
  },
  "language_info": {
   "codemirror_mode": {
    "name": "ipython",
    "version": 3
   },
   "file_extension": ".py",
   "mimetype": "text/x-python",
   "name": "python",
   "nbconvert_exporter": "python",
   "pygments_lexer": "ipython3",
   "version": "3.12.8"
  }
 },
 "nbformat": 4,
 "nbformat_minor": 2
}
